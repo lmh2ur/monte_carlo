{
 "cells": [
  {
   "cell_type": "markdown",
   "id": "df5d8c1b",
   "metadata": {},
   "source": [
    "# Monte Carlo Simulator Scenarios"
   ]
  },
  {
   "cell_type": "markdown",
   "id": "2f4704eb",
   "metadata": {},
   "source": [
    "### Leah Hogenmiller (lmh2ur)"
   ]
  },
  {
   "cell_type": "code",
   "execution_count": 1,
   "id": "cb3edc54",
   "metadata": {},
   "outputs": [],
   "source": [
    "from montecarlo import Die\n",
    "from montecarlo import Game\n",
    "from montecarlo import Analyzer\n",
    "import pandas as pd\n",
    "import numpy as np\n",
    "import matplotlib.pyplot as plt"
   ]
  },
  {
   "cell_type": "markdown",
   "id": "75176836",
   "metadata": {},
   "source": [
    "## Scenario 1: A 2-headed coin"
   ]
  },
  {
   "cell_type": "markdown",
   "id": "89cdf632",
   "metadata": {},
   "source": [
    "Create a fair coin (with faces H and T) and one unfair coin, in which one of the faces has a weight of 5 and the others 1.\n",
    "Play a game of 1000 flips of three coins with all fair dice.\n",
    "Play a game of 1000 flips with two unfair dice and one fair die.\n",
    "For each game, use an Analyzer object to determine the relative frequency of jackpots – getting either all Hs or all Ts.\n",
    "Compute relative frequency as the number of jackpots over the total number of rolls.\n",
    "Show your results, comparing the two relative frequencies, in a simple bar chart."
   ]
  },
  {
   "cell_type": "code",
   "execution_count": 2,
   "id": "ea1e6aaf",
   "metadata": {},
   "outputs": [],
   "source": [
    "fair_coin = Die(['H', 'T'])\n",
    "\n",
    "unfair_coin = Die(['H', 'T'])\n",
    "unfair_coin.change_weights('H', 5)"
   ]
  },
  {
   "cell_type": "markdown",
   "id": "6e16e156",
   "metadata": {},
   "source": [
    "### 3 Fair Coins"
   ]
  },
  {
   "cell_type": "code",
   "execution_count": 15,
   "id": "dedb7b9c",
   "metadata": {},
   "outputs": [],
   "source": [
    "game_3coins = Game([fair_coin, fair_coin, fair_coin])\n",
    "game_3coins.play(rolls = 1000)\n",
    "\n",
    "analyze_3coins = Analyzer(game_3coins)\n",
    "relfrq_3coins = analyze_3coins.jackpot()/1000"
   ]
  },
  {
   "cell_type": "markdown",
   "id": "0e97dfc7",
   "metadata": {},
   "source": [
    "### 2 Fair Coins and 1 Unfair Coin"
   ]
  },
  {
   "cell_type": "code",
   "execution_count": 16,
   "id": "d08b62da",
   "metadata": {},
   "outputs": [],
   "source": [
    "game_3mix = Game([fair_coin, fair_coin, unfair_coin])\n",
    "game_3mix.play(rolls=1000)\n",
    "\n",
    "analyze_3mix = Analyzer(game_3mix)\n",
    "relfrq_3mix = analyze_3mix.jackpot()/1000"
   ]
  },
  {
   "cell_type": "markdown",
   "id": "7fe9a9f0",
   "metadata": {},
   "source": [
    "### Relative Frequency of Jackpots"
   ]
  },
  {
   "cell_type": "code",
   "execution_count": 25,
   "id": "fccc422c",
   "metadata": {},
   "outputs": [
    {
     "data": {
      "image/png": "[encoded data removed]",
      "text/plain": [
       "<Figure size 432x288 with 1 Axes>"
      ]
     },
     "metadata": {
      "needs_background": "light"
     },
     "output_type": "display_data"
    }
   ],
   "source": [
    "fig, ax  = plt.subplots()\n",
    "ax.bar([1, 2], [relfrq_3coins, relfrq_3mix], width=0.5,\n",
    "       tick_label=['3 fair coins', '2 fair 2 unfair coins'])\n",
    "plt.xlabel('game')\n",
    "plt.ylabel('relative frequency')\n",
    "plt.title('Relative Frequency of Jackpots')\n",
    "\n",
    "plt.show()"
   ]
  },
  {
   "cell_type": "markdown",
   "id": "6e0ce23c",
   "metadata": {},
   "source": [
    "## Scenario 2: A 6-sided die"
   ]
  },
  {
   "cell_type": "markdown",
   "id": "c29e60fb",
   "metadata": {},
   "source": [
    "Create a fair die and two unfair dice, all of six sides with the faces 1 through 6. One unfair die (Type 1) will weight 6 five times more than the others (i.e. it has weight of 5 and the others a weight of 1 each). The other unfair die (Type 2) will  weight 1 five times more than the others.\n",
    "Play a game of 10000 rolls with 5 fair dice.\n",
    "Play a game of 10000 rolls with 2 unfair dice of type 1, 1 unfair die of type 2, and the rest fair dice.\n",
    "For each game, use an Analyzer object to determine the relative frequency of jackpots and show your results, comparing the two relative frequencies, in a simple bar chart.\n",
    "Also compute 10 most frequent combinations of faces for each game. Plot each of these as bar charts."
   ]
  },
  {
   "cell_type": "code",
   "execution_count": 6,
   "id": "a51ad221",
   "metadata": {},
   "outputs": [],
   "source": [
    "faces = [1, 2, 3, 4, 5, 6]\n",
    "\n",
    "fair_die = Die(faces)\n",
    "\n",
    "unfair_die1 = Die(faces)\n",
    "unfair_die1.change_weights(6, 5)\n",
    "\n",
    "unfair_die2 = Die(faces)\n",
    "unfair_die2.change_weights(1, 5)"
   ]
  },
  {
   "cell_type": "markdown",
   "id": "fa19037e",
   "metadata": {},
   "source": [
    "### 5 Fair Dice"
   ]
  },
  {
   "cell_type": "code",
   "execution_count": 7,
   "id": "a6b9862d",
   "metadata": {
    "scrolled": true
   },
   "outputs": [],
   "source": [
    "game_5fair = Game([fair_die, fair_die, fair_die, fair_die, fair_die])\n",
    "game_5fair.play(rolls=10000)\n",
    "\n",
    "analyze_5fair = Analyzer(game_5fair)\n",
    "relfrq_5fair = analyze_5fair.jackpot()/10000"
   ]
  },
  {
   "cell_type": "code",
   "execution_count": 8,
   "id": "3058a411",
   "metadata": {},
   "outputs": [
    {
     "data": {
      "image/png": "[encoded data removed]",
      "text/plain": [
       "<Figure size 432x288 with 1 Axes>"
      ]
     },
     "metadata": {
      "needs_background": "light"
     },
     "output_type": "display_data"
    }
   ],
   "source": [
    "combos_5fair = analyze_5fair.combo()[:10]\n",
    "\n",
    "combo_labels = combos_5fair.loc[:, combos_5fair.columns != 'count'].values.tolist()\n",
    "\n",
    "ax = combos_5fair.plot.bar(xlabel='combo',ylabel='count',title='Counts of top 10 combinations')\n",
    "ax.set_xticklabels(combo_labels, rotation=65)\n",
    "plt.show()"
   ]
  },
  {
   "cell_type": "markdown",
   "id": "dc3fa7bd",
   "metadata": {},
   "source": [
    "### 2 Unfair Dice (Type 1), 1 Unfair Die (Type 2) and 2 Fair Dice "
   ]
  },
  {
   "cell_type": "code",
   "execution_count": 9,
   "id": "787715a9",
   "metadata": {},
   "outputs": [],
   "source": [
    "game_5mix = Game([unfair_die1, unfair_die1, unfair_die2, fair_die, fair_die])\n",
    "game_5mix.play(rolls=10000)\n",
    "\n",
    "analyze_5mix = Analyzer(game_5mix)\n",
    "relfrq_5mix = analyze_5mix.jackpot()/10000"
   ]
  },
  {
   "cell_type": "code",
   "execution_count": 10,
   "id": "ef787783",
   "metadata": {},
   "outputs": [
    {
     "data": {
      "image/png": "[encoded data removed]",
      "text/plain": [
       "<Figure size 432x288 with 1 Axes>"
      ]
     },
     "metadata": {
      "needs_background": "light"
     },
     "output_type": "display_data"
    }
   ],
   "source": [
    "combos_5mix = analyze_5mix.combo()[:10]\n",
    "\n",
    "combo_labels2 = combos_5mix.loc[:, combos_5mix.columns != 'count'].values.tolist()\n",
    "\n",
    "ax = combos_5mix.plot.bar(xlabel='combo',ylabel='count',title='Counts of top 10 combinations')\n",
    "ax.set_xticklabels(combo_labels2, rotation=65)\n",
    "plt.show()"
   ]
  },
  {
   "cell_type": "markdown",
   "id": "71ea238c",
   "metadata": {},
   "source": [
    "### Relative Frequency of Jackpots"
   ]
  },
  {
   "cell_type": "code",
   "execution_count": 24,
   "id": "373c1c05",
   "metadata": {},
   "outputs": [
    {
     "data": {
      "image/png": "[encoded data removed]",
      "text/plain": [
       "<Figure size 432x288 with 1 Axes>"
      ]
     },
     "metadata": {
      "needs_background": "light"
     },
     "output_type": "display_data"
    }
   ],
   "source": [
    "fig, ax  = plt.subplots()\n",
    "ax.bar([1, 2], [relfrq_5fair, relfrq_5mix], width=0.5,\n",
    "       tick_label=['5 fair dice', '2 unfair(1), 1 unfair(2), 2 fair dice'])\n",
    "plt.xlabel('game')\n",
    "plt.ylabel('relative frequency')\n",
    "plt.title('Relative Frequency of Jackpots')\n",
    "\n",
    "plt.show()"
   ]
  },
  {
   "cell_type": "markdown",
   "id": "f9ed535b",
   "metadata": {},
   "source": [
    "## Scenario 3: Letters of the Roman Alphabet "
   ]
  },
  {
   "cell_type": "markdown",
   "id": "8c1c6f1e",
   "metadata": {},
   "source": [
    "Create a \"die\" of letters from a to z with weights based on their frequency of usage. See Appendix for these weights.\n",
    "Play a game involving 5 of these dice with 1000 rolls.\n",
    "How many combos can you see that look like actual English words?\n",
    "Based on your eye count, what is the relative frequency of these words versus the rest?\n"
   ]
  },
  {
   "cell_type": "code",
   "execution_count": 12,
   "id": "4826384a",
   "metadata": {},
   "outputs": [],
   "source": [
    "letters = ['A', 'B', 'C', 'D', 'E', 'F', 'G', \\\n",
    "           'H', 'I', 'J', 'K', 'L', 'M', 'N', \\\n",
    "           'O', 'P', 'Q', 'R', 'S', 'T', 'U', \\\n",
    "           'V', 'W', 'X', 'Y', 'Z']\n",
    "\n",
    "frequencies = [8.4966, 2.0720, 4.5388, 3.3844, 11.1607, 1.8121, 2.4705, \\\n",
    "              3.0034, 7.5448, 0.1965, 1.1016, 5.4893, 3.0129, 6.6544, \\\n",
    "              7.1635, 3.1671, 0.1962, 7.5809, 5.7351, 6.9509, 3.6308, \\\n",
    "              1.0074, 1.2899, 0.2902, 1.779, 0.2722]\n",
    "\n",
    "letters_die = Die(letters)\n",
    "\n",
    "for (i, j) in zip(letters, frequencies):\n",
    "    letters_die.change_weights(i, j)"
   ]
  },
  {
   "cell_type": "code",
   "execution_count": 13,
   "id": "ba405429",
   "metadata": {},
   "outputs": [],
   "source": [
    "game_5letters = Game([letters_die, letters_die, letters_die, letters_die, letters_die])\n",
    "game_5letters.play(rolls=1000)\n",
    "\n",
    "analyze_5letters = Analyzer(game_5letters)"
   ]
  },
  {
   "cell_type": "code",
   "execution_count": 18,
   "id": "05c4de8c",
   "metadata": {},
   "outputs": [
    {
     "data": {
      "text/html": [
       "<div>\n",
       "<style scoped>\n",
       "    .dataframe tbody tr th:only-of-type {\n",
       "        vertical-align: middle;\n",
       "    }\n",
       "\n",
       "    .dataframe tbody tr th {\n",
       "        vertical-align: top;\n",
       "    }\n",
       "\n",
       "    .dataframe thead th {\n",
       "        text-align: right;\n",
       "    }\n",
       "</style>\n",
       "<table border=\"1\" class=\"dataframe\">\n",
       "  <thead>\n",
       "    <tr style=\"text-align: right;\">\n",
       "      <th></th>\n",
       "      <th>1</th>\n",
       "      <th>2</th>\n",
       "      <th>3</th>\n",
       "      <th>4</th>\n",
       "      <th>5</th>\n",
       "      <th>count</th>\n",
       "    </tr>\n",
       "  </thead>\n",
       "  <tbody>\n",
       "    <tr>\n",
       "      <th>0</th>\n",
       "      <td>['A']</td>\n",
       "      <td>['A']</td>\n",
       "      <td>['F']</td>\n",
       "      <td>['S']</td>\n",
       "      <td>['F']</td>\n",
       "      <td>1</td>\n",
       "    </tr>\n",
       "    <tr>\n",
       "      <th>1</th>\n",
       "      <td>['O']</td>\n",
       "      <td>['O']</td>\n",
       "      <td>['I']</td>\n",
       "      <td>['S']</td>\n",
       "      <td>['O']</td>\n",
       "      <td>1</td>\n",
       "    </tr>\n",
       "    <tr>\n",
       "      <th>2</th>\n",
       "      <td>['O']</td>\n",
       "      <td>['I']</td>\n",
       "      <td>['U']</td>\n",
       "      <td>['E']</td>\n",
       "      <td>['A']</td>\n",
       "      <td>1</td>\n",
       "    </tr>\n",
       "    <tr>\n",
       "      <th>3</th>\n",
       "      <td>['O']</td>\n",
       "      <td>['L']</td>\n",
       "      <td>['G']</td>\n",
       "      <td>['G']</td>\n",
       "      <td>['C']</td>\n",
       "      <td>1</td>\n",
       "    </tr>\n",
       "    <tr>\n",
       "      <th>4</th>\n",
       "      <td>['O']</td>\n",
       "      <td>['L']</td>\n",
       "      <td>['H']</td>\n",
       "      <td>['B']</td>\n",
       "      <td>['T']</td>\n",
       "      <td>1</td>\n",
       "    </tr>\n",
       "    <tr>\n",
       "      <th>...</th>\n",
       "      <td>...</td>\n",
       "      <td>...</td>\n",
       "      <td>...</td>\n",
       "      <td>...</td>\n",
       "      <td>...</td>\n",
       "      <td>...</td>\n",
       "    </tr>\n",
       "    <tr>\n",
       "      <th>995</th>\n",
       "      <td>['G']</td>\n",
       "      <td>['O']</td>\n",
       "      <td>['T']</td>\n",
       "      <td>['Z']</td>\n",
       "      <td>['L']</td>\n",
       "      <td>1</td>\n",
       "    </tr>\n",
       "    <tr>\n",
       "      <th>996</th>\n",
       "      <td>['G']</td>\n",
       "      <td>['O']</td>\n",
       "      <td>['V']</td>\n",
       "      <td>['D']</td>\n",
       "      <td>['A']</td>\n",
       "      <td>1</td>\n",
       "    </tr>\n",
       "    <tr>\n",
       "      <th>997</th>\n",
       "      <td>['G']</td>\n",
       "      <td>['R']</td>\n",
       "      <td>['A']</td>\n",
       "      <td>['I']</td>\n",
       "      <td>['D']</td>\n",
       "      <td>1</td>\n",
       "    </tr>\n",
       "    <tr>\n",
       "      <th>998</th>\n",
       "      <td>['G']</td>\n",
       "      <td>['R']</td>\n",
       "      <td>['D']</td>\n",
       "      <td>['E']</td>\n",
       "      <td>['L']</td>\n",
       "      <td>1</td>\n",
       "    </tr>\n",
       "    <tr>\n",
       "      <th>999</th>\n",
       "      <td>['Z']</td>\n",
       "      <td>['N']</td>\n",
       "      <td>['E']</td>\n",
       "      <td>['H']</td>\n",
       "      <td>['I']</td>\n",
       "      <td>1</td>\n",
       "    </tr>\n",
       "  </tbody>\n",
       "</table>\n",
       "<p>1000 rows × 6 columns</p>\n",
       "</div>"
      ],
      "text/plain": [
       "         1      2      3      4      5  count\n",
       "0    ['A']  ['A']  ['F']  ['S']  ['F']      1\n",
       "1    ['O']  ['O']  ['I']  ['S']  ['O']      1\n",
       "2    ['O']  ['I']  ['U']  ['E']  ['A']      1\n",
       "3    ['O']  ['L']  ['G']  ['G']  ['C']      1\n",
       "4    ['O']  ['L']  ['H']  ['B']  ['T']      1\n",
       "..     ...    ...    ...    ...    ...    ...\n",
       "995  ['G']  ['O']  ['T']  ['Z']  ['L']      1\n",
       "996  ['G']  ['O']  ['V']  ['D']  ['A']      1\n",
       "997  ['G']  ['R']  ['A']  ['I']  ['D']      1\n",
       "998  ['G']  ['R']  ['D']  ['E']  ['L']      1\n",
       "999  ['Z']  ['N']  ['E']  ['H']  ['I']      1\n",
       "\n",
       "[1000 rows x 6 columns]"
      ]
     },
     "execution_count": 18,
     "metadata": {},
     "output_type": "execute_result"
    }
   ],
   "source": [
    "analyze_5letters.combo()"
   ]
  },
  {
   "cell_type": "code",
   "execution_count": null,
   "id": "b22090c2",
   "metadata": {},
   "outputs": [],
   "source": []
  }
 ],
 "metadata": {
  "kernelspec": {
   "display_name": "Python 3 (ipykernel)",
   "language": "python",
   "name": "python3"
  },
  "language_info": {
   "codemirror_mode": {
    "name": "ipython",
    "version": 3
   },
   "file_extension": ".py",
   "mimetype": "text/x-python",
   "name": "python",
   "nbconvert_exporter": "python",
   "pygments_lexer": "ipython3",
   "version": "3.9.12"
  }
 },
 "nbformat": 4,
 "nbformat_minor": 5
}

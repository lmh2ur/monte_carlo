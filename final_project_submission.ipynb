{
 "cells": [
  {
   "cell_type": "markdown",
   "id": "45762487-d33f-486d-8e38-2cdea04e3528",
   "metadata": {},
   "source": [
    "# Metadata\n",
    "\n",
    "* Title: **Final Project Report**\n",
    "* Class: DS 5100\n",
    "* Date: July 15, 2022\n",
    "* Student Name: Leah Hogenmiller\n",
    "* Student Net ID: lmh2ur\n",
    "* This URL: <https://github.com/lmh2ur/monte_carlo/blob/main/final_project_submission.ipynb>\n",
    "* GitHub Repo URL: <https://github.com/lmh2ur/monte_carlo>"
   ]
  },
  {
   "cell_type": "markdown",
   "id": "d32cb273-9a40-4909-a7ce-51f6e4958d3c",
   "metadata": {},
   "source": [
    "# The Monte Carlo Module"
   ]
  },
  {
   "cell_type": "code",
   "execution_count": null,
   "id": "a0743efc-a785-4b5c-a9e6-b65d4507a67f",
   "metadata": {},
   "outputs": [],
   "source": [
    "\"\"\"\n",
    "    The monte carlo simulator module lets you model chance mechanisms such   \n",
    "    as dice or coins. It does this by using random number generators to   \n",
    "    model the behavior of random variables. \n",
    "\n",
    "    Classes:\n",
    "        Die\n",
    "        Game\n",
    "        Analyzer\n",
    "    \n",
    "    Functions:\n",
    "        change_weights(int, int or float)\n",
    "        roll_die() -> list \n",
    "        show_die() -> dataframe\n",
    "        play(int) \n",
    "        show_play() -> dataframe\n",
    "        jackpot() -> int\n",
    "        combo() -> dataframe\n",
    "        face_counts_per_roll -> dataframe\n",
    "\"\"\"\n",
    "import pandas as pd\n",
    "import numpy as np\n",
    "\n",
    "class Die():\n",
    "    \"\"\"\n",
    "    A class to represent a die. \n",
    "\n",
    "    Attributes\n",
    "    ----------\n",
    "        faces : list \n",
    "            strs, int or floats for faces of die\n",
    "    \n",
    "    Methods\n",
    "    -------\n",
    "        __init__(list) : initalize with list of faces\n",
    "        change_weights(int, int or float) : change weight of face\n",
    "        roll_die(int) : roll die specified amount of time, returns list of faces rolled\n",
    "        show_die() : returns dataframe of the die object\n",
    "    \"\"\"\n",
    "\n",
    "    def __init__(self, faces):\n",
    "        \"\"\"\n",
    "        Constructor for die object.\n",
    "\n",
    "        Parameters\n",
    "        ----------\n",
    "            faces : list\n",
    "                strs, ints, or floats of die object faces\n",
    "        \"\"\"\n",
    "        self.faces = faces\n",
    "        self._weights = []\n",
    "        for face in faces:\n",
    "            self._weights.append(1.0)       \n",
    "        self._df = pd.DataFrame({'die_face':faces, 'die_weight':self._weights})\n",
    "\n",
    "    def change_weights(self, face, weight):\n",
    "        \"\"\"\n",
    "        Changes the weight of a face of the die.\n",
    "\n",
    "        Parameters\n",
    "        ----------\n",
    "            face : str, int or float \n",
    "                specfic die face wanting to be changes\n",
    "            weight: int or float\n",
    "                new weight of face\n",
    "\n",
    "        Returns\n",
    "        _______\n",
    "            None\n",
    "\n",
    "        Raises\n",
    "        ______\n",
    "            Exception : when face entered is not in die object \n",
    "            Exception : when weight is not an int or float\n",
    "        \"\"\"\n",
    "        if face in self._df['die_face'].values:\n",
    "            try:\n",
    "                if isinstance(weight, float) == True or isinstance(float(weight),float) == True:\n",
    "                    self._df.loc[self._df['die_face'] == face, 'die_weight'] = weight\n",
    "            except:\n",
    "                print(\"Weight is not a number.\")\n",
    "        else:\n",
    "            print(\"Choose a face of the die.\")\n",
    "\n",
    "    def roll_die(self, rolls=1): \n",
    "        \"\"\"\n",
    "        Rolls die and returns list of face values randomly rolled based on weights.\n",
    "\n",
    "        Parameters\n",
    "        __________\n",
    "            rolls : int\n",
    "                number of rolls, default: rolls = 1\n",
    "        \n",
    "        Returns\n",
    "        _______\n",
    "            list of faces rolled\n",
    "        \"\"\"\n",
    "        return [self._df['die_face'].sample(weights = self._df['die_weight']).values[0] for i in range(rolls)]\n",
    "    \n",
    "    def show_die(self):\n",
    "        \"\"\"\n",
    "        Shows dataframe of die object.\n",
    "\n",
    "        Parameters\n",
    "        __________\n",
    "            None\n",
    "\n",
    "        Returns\n",
    "        _______\n",
    "            dataframe of die, columns = die_face, die_weight\n",
    "\n",
    "        \"\"\"\n",
    "        return self._df\n",
    "\n",
    "\n",
    "class Game():\n",
    "    \"\"\"\n",
    "    Class for game of multiple dice.\n",
    "\n",
    "    Attributes\n",
    "    __________\n",
    "        dice : list\n",
    "            list of die objects to be played\n",
    "\n",
    "    Methods \n",
    "    _______\n",
    "        __init___(list) : initalize with list of die\n",
    "        play(int) : specify number of rolls to be played\n",
    "        show_play() : returns dataframe of playing game\n",
    "    \"\"\"\n",
    "    def __init__(self, dice):\n",
    "        \"\"\" \n",
    "        Constructor for game object. \n",
    "\n",
    "        Parameters\n",
    "        __________\n",
    "            dice : list\n",
    "                list of die objects to be played \n",
    "        \"\"\"\n",
    "        self.dice = dice\n",
    "\n",
    "    def play(self, rolls):\n",
    "        \"\"\"\n",
    "        Plays die object a specified amount of times.\n",
    "\n",
    "        Parameters\n",
    "        __________\n",
    "            rolls : int\n",
    "                number of times to roll dice\n",
    "        \n",
    "        Returns\n",
    "        _______\n",
    "            None\n",
    "        \"\"\"\n",
    "        self._play = pd.DataFrame({'roll_number':[], 'die_number':[], \"face_rolled\":[]})\n",
    "        \n",
    "        for i in range(rolls):\n",
    "            for idx, die in enumerate(self.dice):\n",
    "                _die_roll = Die.roll_die(die)\n",
    "                _new_roll = pd.DataFrame({'roll_number':[i+1],'die_number':[idx+1], 'face_rolled': [_die_roll]})\n",
    "                self._play = pd.concat([self._play, _new_roll], ignore_index=True)\n",
    "\n",
    "        self._play = self._play.astype({'roll_number':'int32', 'die_number':'int32'})\n",
    "        self._play = self._play.reset_index(drop=True).set_index(['roll_number','die_number'])\n",
    "\n",
    "    def show_play(self, wide = True):\n",
    "        \"\"\"\n",
    "        Shows dataframe of playing dice.\n",
    "\n",
    "        Parameters\n",
    "        __________\n",
    "            wide : boolean\n",
    "                returns wide or narrow dataframe, default: wide = True\n",
    "        \n",
    "        Returns\n",
    "        _______\n",
    "            Dataframe of results from play method with information about roll number, die number and face rolled\n",
    "\n",
    "        Raises\n",
    "        ______\n",
    "            Exception : when wide is not set to a boolean\n",
    "        \"\"\"\n",
    "        if wide == True:\n",
    "            _wide_df = self._play.face_rolled.unstack()\n",
    "            return _wide_df\n",
    "        elif wide == False:\n",
    "            _narrow_df = self._play\n",
    "            return _narrow_df\n",
    "        else:\n",
    "            print(\"Set wide equal to True or False.\")\n",
    "\n",
    "class Analyzer():\n",
    "    \"\"\"\n",
    "    Class for analyzing game.\n",
    "\n",
    "    Attributes\n",
    "    __________\n",
    "        game : object\n",
    "            played game object\n",
    "        jackpot_count : int\n",
    "            number of times same faces are rolled\n",
    "        jackpot_results : dataframe\n",
    "            all rolls that produced same faces \n",
    "        combo_results : dataframe\n",
    "            counts of all combinations of faces rolled\n",
    "        face_counts_results : dataframe\n",
    "            counts of all the faces rolled per roll \n",
    "    \n",
    "    Methods\n",
    "    _______\n",
    "        __init__(object) : initalize with game object\n",
    "        jackpot() : returns count of number of jackpots\n",
    "        combo() : returns dataframe of combinations and counts\n",
    "        face_counts_per_roll() : returns dataframe of counts of faces rolled\n",
    "    \"\"\"\n",
    "    def __init__(self, game):\n",
    "        \"\"\"\n",
    "        Constructor for analyzer class. \n",
    "\n",
    "        Parameters\n",
    "        __________\n",
    "            game : object of played game class\n",
    "        \"\"\"\n",
    "        self.game = Game.show_play(game).astype(str)\n",
    "    \n",
    "    def jackpot(self):\n",
    "        \"\"\"\n",
    "        Calculates number of jackpots which is when roll produces all die having the same face.\n",
    "\n",
    "        Parameters\n",
    "        __________\n",
    "            None\n",
    "        \n",
    "        Returns\n",
    "        _______\n",
    "            jackpot_count : int\n",
    "                number of jackpots per game\n",
    "        \n",
    "        Raise\n",
    "        _____\n",
    "            Exception : when there are no jackpots for the game\n",
    "        \"\"\"\n",
    "        _same_faces = self.game.eq(self.game.iloc[:,0],axis=0).all(axis=1)\n",
    "        self.jackpot_results = self.game[_same_faces]\n",
    "\n",
    "        self.jackpot_count = 0\n",
    "\n",
    "        for i in range(len(self.game)):\n",
    "            if _same_faces[i+1] == True:\n",
    "                self.jackpot_count += 1\n",
    "\n",
    "        if self.jackpot_count == 0:\n",
    "            print(\"No rolls resulted in all the dice having the same face\")\n",
    "        else:\n",
    "            return self.jackpot_count\n",
    "            \n",
    "    def combo(self):\n",
    "        \"\"\"\n",
    "        Calculates the number of unique combinations in a game.\n",
    "\n",
    "        Parameters\n",
    "        __________\n",
    "            None\n",
    "        \n",
    "        Returns\n",
    "        _______\n",
    "            combo_results : dataframe\n",
    "                The different combinations produced and count of each\n",
    "        \"\"\"\n",
    "        self.combo_results = self.game.value_counts().reset_index().rename(columns={0:'count'})\n",
    "\n",
    "        return self.combo_results\n",
    "    \n",
    "    def face_counts_per_roll(self):\n",
    "        \"\"\"\n",
    "        Calculates count of each face rolled per roll.\n",
    "\n",
    "        Parameters\n",
    "        __________\n",
    "            None\n",
    "        \n",
    "        Returns\n",
    "            face_counts_results : dataframe\n",
    "                count of face rolled per roll\n",
    "        \"\"\"\n",
    "\n",
    "        _face_values_per_roll = self.game.unstack().droplevel(0)\n",
    "\n",
    "        self.face_counts_results = _face_values_per_roll.groupby(['roll_number']).value_counts().to_frame().reset_index().rename(columns={'level_1': 'face_rolled', 0:'count'}).set_index(['roll_number', 'face_rolled']).unstack(fill_value = 0)\n",
    "\n",
    "        return self.face_counts_results"
   ]
  },
  {
   "cell_type": "markdown",
   "id": "4c81c4f0-b6ff-46ab-ba2c-9de7f0179715",
   "metadata": {},
   "source": [
    "# Test Module"
   ]
  },
  {
   "cell_type": "code",
   "execution_count": null,
   "id": "14b878d8-258b-4cf2-ad88-b8ee90d43977",
   "metadata": {},
   "outputs": [],
   "source": [
    "import unittest\n",
    "from montecarlo import Die\n",
    "from montecarlo import Game\n",
    "from montecarlo import Analyzer\n",
    "\n",
    "class DieTestSuite(unittest.TestCase):\n",
    "\n",
    "    def test_1_die(self):\n",
    "        #check if die faces in dataframe\n",
    "        test_die1 = Die([1,2,3,4,5,6])\n",
    "        actual_faces = test_die1.show_die()['die_face'].values.tolist()\n",
    "        expected_faces = [1,2,3,4,5,6]\n",
    "        self.assertListEqual(actual_faces, expected_faces)\n",
    "\n",
    "    def test_2_change_weights(self):\n",
    "        #change weight of face that is not a number\n",
    "        test_die1 = Die([1,2,3,4,5,6])\n",
    "        self.assertRaises(Exception, test_die1.change_weights(1, 'h'))\n",
    "\n",
    "    def test_2_change_weights(self):\n",
    "        #change weight of face that is not in face list\n",
    "        test_die1 = Die([1,2,3,4,5,6])\n",
    "        self.assertRaises(Exception, test_die1.change_weights(7, 3))\n",
    "\n",
    "    def test_4_change_weights(self):\n",
    "        #change weights and check if new weights in dataframe\n",
    "        test_die1 = Die([1,2,3,4,5,6])\n",
    "        test_die1.change_weights(1, 1000)\n",
    "        test_die1.change_weights(3, 57)\n",
    "        actual_weights = test_die1.show_die()['die_weight'].values.tolist()\n",
    "        expected_weights = [1000.0, 1.0, 57.0, 1.0, 1.0, 1.0]\n",
    "        self.assertListEqual(actual_weights, expected_weights)\n",
    "\n",
    "    def test_5_roll_die(self):\n",
    "        #roll die 5 times and see if it rolls 5 times based on die face weights\n",
    "        test_die1 = Die([1,2,3,4,5,6])\n",
    "        test_die1.change_weights(1, 1000)\n",
    "        actual = test_die1.roll_die(rolls = 2)\n",
    "        expected = [1, 1]\n",
    "        self.assertEqual(actual, expected)\n",
    "\n",
    "    def test_6_show_die(self):\n",
    "        #initalize die and check dataframe shape, n = die faces, m = 2\n",
    "        test_die1 = Die([1,2,3,4])\n",
    "        actual_shape = test_die1.show_die().shape\n",
    "        expected_shape = (4,2)\n",
    "        self.assertEqual(actual_shape, expected_shape)\n",
    "    \n",
    "class GameTestSuite(unittest.TestCase):\n",
    "\n",
    "    def test_1_play(self):\n",
    "        #play dice and see if length of dataframe equals number of rolls\n",
    "        test_die1 = Die([1,2,3,4,5,6])\n",
    "        test_die1.change_weights(3, 10)\n",
    "        test_die2 = Die([1,2,3,4,5,6])\n",
    "        test_die2.change_weights(1, 20)\n",
    "        test_game = Game([test_die1, test_die2])\n",
    "        test_game.play(rolls=3)\n",
    "        self.assertEqual(len(test_game.show_play()), 3)\n",
    "\n",
    "        \n",
    "    def test_2_show_play(self):\n",
    "        #play dice and test wide parameter only takes true/false\n",
    "        test_die1 = Die([1,2,3,4,5,6])\n",
    "        test_die1.change_weights(3, 20)\n",
    "        test_die2 = Die([1,2,3,4,5,6])\n",
    "        test_die2.change_weights(1, 20)\n",
    "        test_game = Game([test_die1, test_die2])\n",
    "        test_game.play(rolls=3)\n",
    "        self.assertRaises(Exception, test_game.show_play(wide='narrow'))\n",
    "    \n",
    "    def test_3_show_play(self):\n",
    "        #play die and check dataframe shape, n = num rolls, m = num die\n",
    "        test_die1 = Die([1,2,3,4,5,6])\n",
    "        test_die2 = Die([1,2,3,4,5,6])\n",
    "        test_game = Game([test_die1, test_die2])\n",
    "        test_game.play(rolls=8)\n",
    "        actual_shape = test_game.show_play(wide=True).shape\n",
    "        expected_shape = (8, 2)\n",
    "        self.assertEqual(actual_shape, expected_shape)\n",
    "\n",
    "    def test_4_show_play(self):\n",
    "        #play die and check dataframe shape, n = num rolls * num die, m = 1 (narrow form)\n",
    "        test_die1 = Die([1,2,3,4,5,6])\n",
    "        test_die2 = Die([1,2,3,4,5,6])\n",
    "        test_game = Game([test_die1, test_die2])\n",
    "        test_game.play(rolls=8)\n",
    "        actual_shape = test_game.show_play(wide=False).shape\n",
    "        expected_shape = (16, 1)\n",
    "        self.assertEqual(actual_shape, expected_shape)\n",
    "\n",
    "class AnalyzerTestSuite(unittest.TestCase):\n",
    "\n",
    "    def test_1_jackpot(self):\n",
    "        #set die so that none will have the same results\n",
    "        test_die1 = Die([1,2,3,4,5,6])\n",
    "        test_die2 = Die([1,2,3,4,5,6])\n",
    "        test_die1.change_weights(1, 1000)\n",
    "        test_die2.change_weights(5, 1000)\n",
    "        test_game = Game([test_die1, test_die2])\n",
    "        test_game.play(rolls=3)\n",
    "        test_analyzer = Analyzer(test_game)\n",
    "        self.assertRaises(Exception, test_analyzer.jackpot())\n",
    "    \n",
    "    def test_2_jackpot(self):\n",
    "        #set die so that all rolls will have same result to test jackpot count\n",
    "        test_die1 = Die([1,2,3,4,5,6])\n",
    "        test_die2 = Die([1,2,3,4,5,6])\n",
    "        test_die1.change_weights(1, 1000)\n",
    "        test_die2.change_weights(1, 1000)\n",
    "        test_game = Game([test_die1, test_die2])\n",
    "        test_game.play(rolls=3)\n",
    "        test_analyzer = Analyzer(test_game)\n",
    "        self.assertEqual(test_analyzer.jackpot(), 3)\n",
    "\n",
    "    def test_3_combo(self):\n",
    "        #set die so that all rolls have same combo and test that dataframe only has one value\n",
    "        test_die1 = Die([1,2,3,4,5,6])\n",
    "        test_die2 = Die([1,2,3,4,5,6])\n",
    "        test_die1.change_weights(1, 1000)\n",
    "        test_die2.change_weights(1, 1000)\n",
    "        test_game = Game([test_die1, test_die2])\n",
    "        test_game.play(rolls=5)\n",
    "        test_analyzer = Analyzer(test_game)\n",
    "        self.assertEqual(len(test_analyzer.combo()), 1)\n",
    "    \n",
    "    def test_4_face_counts_per_roll(self):\n",
    "        #see if combo results dataframe length is the same as num rolls\n",
    "        test_die1 = Die([1,2,3,4,5,6])\n",
    "        test_die2 = Die([1,2,3,4,5,6])\n",
    "        test_die1.change_weights(1, 1000)\n",
    "        test_die2.change_weights(5, 1000)\n",
    "        test_game = Game([test_die1, test_die2])\n",
    "        test_game.play(rolls=3)\n",
    "        test_analyzer = Analyzer(test_game)\n",
    "        self.assertEqual(len(test_analyzer.face_counts_per_roll()), 3)\n",
    "\n",
    "if __name__ == '__main__':\n",
    "    unittest.main(verbosity=3)"
   ]
  },
  {
   "cell_type": "markdown",
   "id": "3c2b90b6-ac8b-43fa-a069-cb5b0b22aee0",
   "metadata": {},
   "source": [
    "# Test Results"
   ]
  },
  {
   "cell_type": "markdown",
   "id": "c80201af-9579-4a2c-bbc7-805e420d156c",
   "metadata": {},
   "source": [
    "test_1_jackpot (__main__.AnalyzerTestSuite) ... ok\n",
    "\n",
    "test_2_jackpot (__main__.AnalyzerTestSuite) ... ok\n",
    "\n",
    "test_3_combo (__main__.AnalyzerTestSuite) ... ok\n",
    "\n",
    "test_4_face_counts_per_roll (__main__.AnalyzerTestSuite) ... ok\n",
    "\n",
    "test_1_die (__main__.DieTestSuite) ... ok\n",
    "\n",
    "test_2_change_weights (__main__.DieTestSuite) ... ok\n",
    "\n",
    "test_4_change_weights (__main__.DieTestSuite) ... ok\n",
    "\n",
    "test_5_roll_die (__main__.DieTestSuite) ... ok\n",
    "\n",
    "test_6_show_die (__main__.DieTestSuite) ... ok\n",
    "\n",
    "test_1_play (__main__.GameTestSuite) ... ok\n",
    "\n",
    "test_2_show_play (__main__.GameTestSuite) ... ok\n",
    "\n",
    "test_3_show_play (__main__.GameTestSuite) ... ok\n",
    "\n",
    "test_4_show_play (__main__.GameTestSuite) ... ok\n",
    "\n",
    "----------------------------------------------------------------------\n",
    "Ran 13 tests in 0.055s\n",
    "\n",
    "OK"
   ]
  },
  {
   "cell_type": "markdown",
   "id": "7c44695d-d1b3-4edf-9f94-e64d7446f199",
   "metadata": {},
   "source": [
    "# Scenarios\n",
    "\n",
    "Code blocks with your scenarios and their outputs. \n",
    "\n",
    "These should have appropriate import statements even though the code is now in the same notebook as the classes it calls. "
   ]
  },
  {
   "cell_type": "code",
   "execution_count": null,
   "id": "93c65969",
   "metadata": {},
   "outputs": [],
   "source": [
    "from montecarlo import Die\n",
    "from montecarlo import Game\n",
    "from montecarlo import Analyzer"
   ]
  },
  {
   "cell_type": "code",
   "execution_count": 19,
   "id": "7463e942",
   "metadata": {},
   "outputs": [],
   "source": [
    "import pandas as pd\n",
    "import numpy as np\n",
    "import matplotlib.pyplot as plt"
   ]
  },
  {
   "cell_type": "markdown",
   "id": "90b7abd8-f4a7-4d71-bc9a-746640516b98",
   "metadata": {},
   "source": [
    "## Scenario 1"
   ]
  },
  {
   "cell_type": "markdown",
   "id": "815eae36-4357-442a-894e-d056ebb8f998",
   "metadata": {},
   "source": [
    "Create a fair coin (with faces H and T) and one unfair coin, in which one of the faces has a weight of 5 and the others 1.\n",
    "Play a game of 1000 flips of three coins with all fair dice.\n",
    "Play a game of 1000 flips with two unfair dice and one fair die.\n",
    "For each game, use an Analyzer object to determine the relative frequency of jackpots – getting either all Hs or all Ts.\n",
    "Compute relative frequency as the number of jackpots over the total number of rolls.\n",
    "Show your results, comparing the two relative frequencies, in a simple bar chart."
   ]
  },
  {
   "cell_type": "code",
   "execution_count": 20,
   "id": "2168e819",
   "metadata": {},
   "outputs": [],
   "source": [
    "fair_coin = Die(['H', 'T'])\n",
    "\n",
    "unfair_coin = Die(['H', 'T'])\n",
    "unfair_coin.change_weights('H', 5)"
   ]
  },
  {
   "cell_type": "markdown",
   "id": "63b0b38c",
   "metadata": {},
   "source": [
    "### 3 Fair Coins"
   ]
  },
  {
   "cell_type": "code",
   "execution_count": 22,
   "id": "09419a8f",
   "metadata": {},
   "outputs": [],
   "source": [
    "game_3coins = Game([fair_coin, fair_coin, fair_coin])\n",
    "game_3coins.play(rolls = 1000)\n",
    "\n",
    "analyze_3coins = Analyzer(game_3coins)\n",
    "relfrq_3coins = analyze_3coins.jackpot()/1000"
   ]
  },
  {
   "cell_type": "markdown",
   "id": "98e55bbc",
   "metadata": {},
   "source": [
    "### 2 Fair Coins and 1 Unfair Coin"
   ]
  },
  {
   "cell_type": "code",
   "execution_count": 24,
   "id": "8de13742",
   "metadata": {},
   "outputs": [],
   "source": [
    "game_3mix = Game([fair_coin, fair_coin, unfair_coin])\n",
    "game_3mix.play(rolls=1000)\n",
    "\n",
    "analyze_3mix = Analyzer(game_3mix)\n",
    "relfrq_3mix = analyze_3mix.jackpot()/1000"
   ]
  },
  {
   "cell_type": "markdown",
   "id": "e860a219",
   "metadata": {},
   "source": [
    "### Relative Frequency of Jackpots"
   ]
  },
  {
   "cell_type": "code",
   "execution_count": 26,
   "id": "09be9bca",
   "metadata": {},
   "outputs": [
    {
     "data": {
      "image/png": "[encoded data removed]",
      "text/plain": [
       "<Figure size 432x288 with 1 Axes>"
      ]
     },
     "metadata": {
      "needs_background": "light"
     },
     "output_type": "display_data"
    }
   ],
   "source": [
    "fig, ax  = plt.subplots()\n",
    "ax.bar([1, 2], [relfrq_3coins, relfrq_3mix], width=0.5,\n",
    "       tick_label=['3 fair coins', '2 fair 2 unfair coins'])\n",
    "plt.xlabel('game')\n",
    "plt.ylabel('relative frequency')\n",
    "plt.title('Relative Frequency of Jackpots')\n",
    "\n",
    "plt.show()"
   ]
  },
  {
   "cell_type": "markdown",
   "id": "92793a09-0024-465d-b272-2ef8b9a6c21c",
   "metadata": {},
   "source": [
    "## Scenario 2"
   ]
  },
  {
   "cell_type": "markdown",
   "id": "7218e98e-6ec0-4766-8793-5b386ce6ee24",
   "metadata": {},
   "source": [
    "Create a fair die and two unfair dice, all of six sides with the faces 1 through 6. One unfair die (Type 1) will weight 6 five times more than the others (i.e. it has weight of 5 and the others a weight of 1 each). The other unfair die (Type 2) will  weight 1 five times more than the others.\n",
    "Play a game of 10000 rolls with 5 fair dice.\n",
    "Play a game of 10000 rolls with 2 unfair dice of type 1, 1 unfair die of type 2, and the rest fair dice.\n",
    "For each game, use an Analyzer object to determine the relative frequency of jackpots and show your results, comparing the two relative frequencies, in a simple bar chart.\n",
    "Also compute 10 most frequent combinations of faces for each game. Plot each of these as bar charts."
   ]
  },
  {
   "cell_type": "code",
   "execution_count": 27,
   "id": "8704d5cc",
   "metadata": {},
   "outputs": [],
   "source": [
    "faces = [1, 2, 3, 4, 5, 6]\n",
    "\n",
    "fair_die = Die(faces)\n",
    "\n",
    "unfair_die1 = Die(faces)\n",
    "unfair_die1.change_weights(6, 5)\n",
    "\n",
    "unfair_die2 = Die(faces)\n",
    "unfair_die2.change_weights(1, 5)"
   ]
  },
  {
   "cell_type": "markdown",
   "id": "654f9677",
   "metadata": {},
   "source": [
    "### 5 Fair Dice"
   ]
  },
  {
   "cell_type": "code",
   "execution_count": 29,
   "id": "50f070cf",
   "metadata": {},
   "outputs": [],
   "source": [
    "game_5fair = Game([fair_die, fair_die, fair_die, fair_die, fair_die])\n",
    "game_5fair.play(rolls=10000)\n",
    "\n",
    "analyze_5fair = Analyzer(game_5fair)\n",
    "relfrq_5fair = analyze_5fair.jackpot()/10000"
   ]
  },
  {
   "cell_type": "code",
   "execution_count": 30,
   "id": "fd164d08",
   "metadata": {},
   "outputs": [
    {
     "data": {
      "image/png": "[encoded data removed]",
      "text/plain": [
       "<Figure size 432x288 with 1 Axes>"
      ]
     },
     "metadata": {
      "needs_background": "light"
     },
     "output_type": "display_data"
    }
   ],
   "source": [
    "combos_5fair = analyze_5fair.combo()[:10]\n",
    "\n",
    "combo_labels = combos_5fair.loc[:, combos_5fair.columns != 'count'].values.tolist()\n",
    "\n",
    "ax = combos_5fair.plot.bar(xlabel='combo',ylabel='count',title='Counts of top 10 combinations')\n",
    "ax.set_xticklabels(combo_labels, rotation=65)\n",
    "plt.show()"
   ]
  },
  {
   "cell_type": "markdown",
   "id": "f3721ab9",
   "metadata": {},
   "source": [
    "### 2 Unfair Dice (Type 1), 1 Unfair Die (Type 2) and 2 Fair Dice "
   ]
  },
  {
   "cell_type": "code",
   "execution_count": 33,
   "id": "88c9c3d0",
   "metadata": {},
   "outputs": [],
   "source": [
    "game_5mix = Game([unfair_die1, unfair_die1, unfair_die2, fair_die, fair_die])\n",
    "game_5mix.play(rolls=10000)\n",
    "\n",
    "analyze_5mix = Analyzer(game_5mix)\n",
    "relfrq_5mix = analyze_5mix.jackpot()/10000"
   ]
  },
  {
   "cell_type": "code",
   "execution_count": 34,
   "id": "c54ca79e",
   "metadata": {},
   "outputs": [
    {
     "data": {
      "image/png": "[encoded data removed]",
      "text/plain": [
       "<Figure size 432x288 with 1 Axes>"
      ]
     },
     "metadata": {
      "needs_background": "light"
     },
     "output_type": "display_data"
    }
   ],
   "source": [
    "combos_5mix = analyze_5mix.combo()[:10]\n",
    "\n",
    "combo_labels2 = combos_5mix.loc[:, combos_5mix.columns != 'count'].values.tolist()\n",
    "\n",
    "ax = combos_5mix.plot.bar(xlabel='combo',ylabel='count',title='Counts of top 10 combinations')\n",
    "ax.set_xticklabels(combo_labels2, rotation=65)\n",
    "plt.show()"
   ]
  },
  {
   "cell_type": "markdown",
   "id": "14d231e2",
   "metadata": {},
   "source": [
    "### Relative Frequency of Jackpots"
   ]
  },
  {
   "cell_type": "code",
   "execution_count": 35,
   "id": "02a9f83b",
   "metadata": {},
   "outputs": [
    {
     "data": {
      "image/png": "[encoded data removed]",
      "text/plain": [
       "<Figure size 432x288 with 1 Axes>"
      ]
     },
     "metadata": {
      "needs_background": "light"
     },
     "output_type": "display_data"
    }
   ],
   "source": [
    "fig, ax  = plt.subplots()\n",
    "ax.bar([1, 2], [relfrq_5fair, relfrq_5mix], width=0.5,\n",
    "       tick_label=['5 fair dice', '2 unfair(1), 1 unfair(2), 2 fair dice'])\n",
    "plt.xlabel('game')\n",
    "plt.ylabel('relative frequency')\n",
    "plt.title('Relative Frequency of Jackpots')\n",
    "\n",
    "plt.show()"
   ]
  },
  {
   "cell_type": "markdown",
   "id": "1b47f5b6-188d-4d24-9c2f-687b430e6624",
   "metadata": {},
   "source": [
    "## Scenario 3"
   ]
  },
  {
   "cell_type": "markdown",
   "id": "c0113da5",
   "metadata": {},
   "source": [
    "Create a \"die\" of letters from a to z with weights based on their frequency of usage. See Appendix for these weights.\n",
    "Play a game involving 5 of these dice with 1000 rolls.\n",
    "How many combos can you see that look like actual English words?\n",
    "Based on your eye count, what is the relative frequency of these words versus the rest?"
   ]
  },
  {
   "cell_type": "code",
   "execution_count": 36,
   "id": "71333500",
   "metadata": {},
   "outputs": [],
   "source": [
    "letters = ['A', 'B', 'C', 'D', 'E', 'F', 'G', \\\n",
    "           'H', 'I', 'J', 'K', 'L', 'M', 'N', \\\n",
    "           'O', 'P', 'Q', 'R', 'S', 'T', 'U', \\\n",
    "           'V', 'W', 'X', 'Y', 'Z']\n",
    "\n",
    "frequencies = [8.4966, 2.0720, 4.5388, 3.3844, 11.1607, 1.8121, 2.4705, \\\n",
    "              3.0034, 7.5448, 0.1965, 1.1016, 5.4893, 3.0129, 6.6544, \\\n",
    "              7.1635, 3.1671, 0.1962, 7.5809, 5.7351, 6.9509, 3.6308, \\\n",
    "              1.0074, 1.2899, 0.2902, 1.779, 0.2722]\n",
    "\n",
    "letters_die = Die(letters)\n",
    "\n",
    "for (i, j) in zip(letters, frequencies):\n",
    "    letters_die.change_weights(i, j)"
   ]
  },
  {
   "cell_type": "code",
   "execution_count": 37,
   "id": "4dafac3f",
   "metadata": {},
   "outputs": [],
   "source": [
    "game_5letters = Game([letters_die, letters_die, letters_die, letters_die, letters_die])\n",
    "game_5letters.play(rolls=1000)\n",
    "\n",
    "analyze_5letters = Analyzer(game_5letters)"
   ]
  },
  {
   "cell_type": "code",
   "execution_count": 38,
   "id": "5ab21bcd",
   "metadata": {},
   "outputs": [
    {
     "data": {
      "text/html": [
       "<div>\n",
       "<style scoped>\n",
       "    .dataframe tbody tr th:only-of-type {\n",
       "        vertical-align: middle;\n",
       "    }\n",
       "\n",
       "    .dataframe tbody tr th {\n",
       "        vertical-align: top;\n",
       "    }\n",
       "\n",
       "    .dataframe thead th {\n",
       "        text-align: right;\n",
       "    }\n",
       "</style>\n",
       "<table border=\"1\" class=\"dataframe\">\n",
       "  <thead>\n",
       "    <tr style=\"text-align: right;\">\n",
       "      <th></th>\n",
       "      <th>1</th>\n",
       "      <th>2</th>\n",
       "      <th>3</th>\n",
       "      <th>4</th>\n",
       "      <th>5</th>\n",
       "      <th>count</th>\n",
       "    </tr>\n",
       "  </thead>\n",
       "  <tbody>\n",
       "    <tr>\n",
       "      <th>0</th>\n",
       "      <td>['A']</td>\n",
       "      <td>['A']</td>\n",
       "      <td>['C']</td>\n",
       "      <td>['T']</td>\n",
       "      <td>['I']</td>\n",
       "      <td>1</td>\n",
       "    </tr>\n",
       "    <tr>\n",
       "      <th>1</th>\n",
       "      <td>['O']</td>\n",
       "      <td>['R']</td>\n",
       "      <td>['L']</td>\n",
       "      <td>['P']</td>\n",
       "      <td>['E']</td>\n",
       "      <td>1</td>\n",
       "    </tr>\n",
       "    <tr>\n",
       "      <th>2</th>\n",
       "      <td>['O']</td>\n",
       "      <td>['O']</td>\n",
       "      <td>['L']</td>\n",
       "      <td>['I']</td>\n",
       "      <td>['C']</td>\n",
       "      <td>1</td>\n",
       "    </tr>\n",
       "    <tr>\n",
       "      <th>3</th>\n",
       "      <td>['O']</td>\n",
       "      <td>['O']</td>\n",
       "      <td>['L']</td>\n",
       "      <td>['I']</td>\n",
       "      <td>['X']</td>\n",
       "      <td>1</td>\n",
       "    </tr>\n",
       "    <tr>\n",
       "      <th>4</th>\n",
       "      <td>['O']</td>\n",
       "      <td>['O']</td>\n",
       "      <td>['P']</td>\n",
       "      <td>['G']</td>\n",
       "      <td>['E']</td>\n",
       "      <td>1</td>\n",
       "    </tr>\n",
       "    <tr>\n",
       "      <th>...</th>\n",
       "      <td>...</td>\n",
       "      <td>...</td>\n",
       "      <td>...</td>\n",
       "      <td>...</td>\n",
       "      <td>...</td>\n",
       "      <td>...</td>\n",
       "    </tr>\n",
       "    <tr>\n",
       "      <th>995</th>\n",
       "      <td>['G']</td>\n",
       "      <td>['I']</td>\n",
       "      <td>['T']</td>\n",
       "      <td>['R']</td>\n",
       "      <td>['A']</td>\n",
       "      <td>1</td>\n",
       "    </tr>\n",
       "    <tr>\n",
       "      <th>996</th>\n",
       "      <td>['G']</td>\n",
       "      <td>['L']</td>\n",
       "      <td>['G']</td>\n",
       "      <td>['Q']</td>\n",
       "      <td>['N']</td>\n",
       "      <td>1</td>\n",
       "    </tr>\n",
       "    <tr>\n",
       "      <th>997</th>\n",
       "      <td>['G']</td>\n",
       "      <td>['M']</td>\n",
       "      <td>['I']</td>\n",
       "      <td>['I']</td>\n",
       "      <td>['C']</td>\n",
       "      <td>1</td>\n",
       "    </tr>\n",
       "    <tr>\n",
       "      <th>998</th>\n",
       "      <td>['G']</td>\n",
       "      <td>['M']</td>\n",
       "      <td>['O']</td>\n",
       "      <td>['T']</td>\n",
       "      <td>['A']</td>\n",
       "      <td>1</td>\n",
       "    </tr>\n",
       "    <tr>\n",
       "      <th>999</th>\n",
       "      <td>['Y']</td>\n",
       "      <td>['T']</td>\n",
       "      <td>['T']</td>\n",
       "      <td>['A']</td>\n",
       "      <td>['A']</td>\n",
       "      <td>1</td>\n",
       "    </tr>\n",
       "  </tbody>\n",
       "</table>\n",
       "<p>1000 rows × 6 columns</p>\n",
       "</div>"
      ],
      "text/plain": [
       "         1      2      3      4      5  count\n",
       "0    ['A']  ['A']  ['C']  ['T']  ['I']      1\n",
       "1    ['O']  ['R']  ['L']  ['P']  ['E']      1\n",
       "2    ['O']  ['O']  ['L']  ['I']  ['C']      1\n",
       "3    ['O']  ['O']  ['L']  ['I']  ['X']      1\n",
       "4    ['O']  ['O']  ['P']  ['G']  ['E']      1\n",
       "..     ...    ...    ...    ...    ...    ...\n",
       "995  ['G']  ['I']  ['T']  ['R']  ['A']      1\n",
       "996  ['G']  ['L']  ['G']  ['Q']  ['N']      1\n",
       "997  ['G']  ['M']  ['I']  ['I']  ['C']      1\n",
       "998  ['G']  ['M']  ['O']  ['T']  ['A']      1\n",
       "999  ['Y']  ['T']  ['T']  ['A']  ['A']      1\n",
       "\n",
       "[1000 rows x 6 columns]"
      ]
     },
     "execution_count": 38,
     "metadata": {},
     "output_type": "execute_result"
    }
   ],
   "source": [
    "analyze_5letters.combo()"
   ]
  },
  {
   "cell_type": "markdown",
   "id": "236c330b",
   "metadata": {},
   "source": [
    "Looks like around 5 out of all 1,000 combos are real words so the relative frequency would be 0.005."
   ]
  },
  {
   "cell_type": "markdown",
   "id": "ad6d2878-f832-4065-98a3-1ea78ff0a6d3",
   "metadata": {},
   "source": [
    "# Code blocks with output"
   ]
  },
  {
   "cell_type": "markdown",
   "id": "6ced706c-19e7-4e79-b171-bfb076f822b4",
   "metadata": {},
   "source": [
    "# Directory Listing\n",
    "\n",
    "A code block that executes the following bash command: \n",
    "\n",
    "```bash\n",
    "!ls -lRF -o\n",
    "```"
   ]
  },
  {
   "cell_type": "code",
   "execution_count": 39,
   "id": "5dbd35c2-e479-4179-b792-997d4293ba96",
   "metadata": {},
   "outputs": [
    {
     "name": "stdout",
     "output_type": "stream",
     "text": [
      "total 272\n",
      "-rw-r--r--  1 leahhogenmiller   1073 Jul 13 21:28 LICENSE\n",
      "-rw-r--r--  1 leahhogenmiller     17 Jul 13 21:28 README.md\n",
      "-rw-r--r--  1 leahhogenmiller  73881 Jul 14 09:21 Scenarios.ipynb\n",
      "-rw-r--r--  1 leahhogenmiller  36628 Jul 14 10:59 final_project_submission.ipynb\n",
      "drwxr-xr-x  6 leahhogenmiller    192 Jul 13 21:29 \u001b[34mmonte_carlo_package\u001b[m\u001b[m/\n",
      "-rw-r--r--  1 leahhogenmiller    747 Jul 13 15:09 montecarlo_results.txt\n",
      "-rw-r--r--  1 leahhogenmiller   5471 Jul 13 12:31 montecarlo_test.py\n",
      "-rw-r--r--  1 leahhogenmiller    377 Jul 13 15:18 setup.py\n",
      "\n",
      "./monte_carlo_package:\n",
      "total 32\n",
      "-rw-r--r--  1 leahhogenmiller    99 Jul 13 15:15 __init__.py\n",
      "drwxr-xr-x  3 leahhogenmiller    96 Jul 13 15:16 \u001b[34m__pycache__\u001b[m\u001b[m/\n",
      "-rw-r--r--  1 leahhogenmiller  8237 Jul 14 09:33 montecarlo.py\n",
      "\n",
      "./monte_carlo_package/__pycache__:\n",
      "total 8\n",
      "-rw-r--r--  1 leahhogenmiller  282 Jul 13 15:16 __init__.cpython-39.pyc\n"
     ]
    }
   ],
   "source": [
    "!ls -lRF -o"
   ]
  },
  {
   "cell_type": "markdown",
   "id": "c4df835c-3cd7-4c74-a4de-51638607680b",
   "metadata": {
    "tags": []
   },
   "source": [
    "# Installation Output Listing\n",
    "    \n",
    "A code block that executes the code to install your your package and outputs a successful installation."
   ]
  },
  {
   "cell_type": "code",
   "execution_count": 40,
   "id": "3609769a-c338-4746-8607-d124caf76ed8",
   "metadata": {},
   "outputs": [
    {
     "name": "stdout",
     "output_type": "stream",
     "text": [
      "Processing /Users/leahhogenmiller/MSDS/DS5100/monte_carlo\n",
      "\u001b[33m  DEPRECATION: A future pip version will change local packages to be built in-place without first copying to a temporary directory. We recommend you use --use-feature=in-tree-build to test your packages with this new behavior before it becomes the default.\n",
      "   pip 21.3 will remove support for this functionality. You can find discussion regarding this at https://github.com/pypa/pip/issues/7555.\u001b[0m\n",
      "Requirement already satisfied: pandas in /opt/anaconda3/lib/python3.9/site-packages (from monte-carlo-package==1.0.0) (1.4.2)\n",
      "Requirement already satisfied: numpy in /opt/anaconda3/lib/python3.9/site-packages (from monte-carlo-package==1.0.0) (1.21.5)\n",
      "Requirement already satisfied: python-dateutil>=2.8.1 in /opt/anaconda3/lib/python3.9/site-packages (from pandas->monte-carlo-package==1.0.0) (2.8.2)\n",
      "Requirement already satisfied: pytz>=2020.1 in /opt/anaconda3/lib/python3.9/site-packages (from pandas->monte-carlo-package==1.0.0) (2021.3)\n",
      "Requirement already satisfied: six>=1.5 in /opt/anaconda3/lib/python3.9/site-packages (from python-dateutil>=2.8.1->pandas->monte-carlo-package==1.0.0) (1.16.0)\n",
      "Building wheels for collected packages: monte-carlo-package\n",
      "  Building wheel for monte-carlo-package (setup.py) ... \u001b[?25ldone\n",
      "\u001b[?25h  Created wheel for monte-carlo-package: filename=monte_carlo_package-1.0.0-py3-none-any.whl size=4665 sha256=7e06837a149a3e70f53c22bbd7f7f56d23f447b8ebd7240e04876b15bb30593f\n",
      "  Stored in directory: /private/var/folders/lt/kfwdtm_j42g82m1xvk3wlr340000gn/T/pip-ephem-wheel-cache-vjyh7htv/wheels/16/4b/f1/15518aff11caab7f4fbb8a8fdb2c3c97d4b97d2d5995ff5c24\n",
      "Successfully built monte-carlo-package\n",
      "Installing collected packages: monte-carlo-package\n",
      "Successfully installed monte-carlo-package-1.0.0\n"
     ]
    }
   ],
   "source": [
    "!pip install . "
   ]
  }
 ],
 "metadata": {
  "kernelspec": {
   "display_name": "Python 3.9.12 ('base')",
   "language": "python",
   "name": "python3"
  },
  "language_info": {
   "codemirror_mode": {
    "name": "ipython",
    "version": 3
   },
   "file_extension": ".py",
   "mimetype": "text/x-python",
   "name": "python",
   "nbconvert_exporter": "python",
   "pygments_lexer": "ipython3",
   "version": "3.9.12"
  },
  "vscode": {
   "interpreter": {
    "hash": "40d3a090f54c6569ab1632332b64b2c03c39dcf918b08424e98f38b5ae0af88f"
   }
  },
  "widgets": {
   "application/vnd.jupyter.widget-state+json": {
    "state": {},
    "version_major": 2,
    "version_minor": 0
   }
  }
 },
 "nbformat": 4,
 "nbformat_minor": 5
}
